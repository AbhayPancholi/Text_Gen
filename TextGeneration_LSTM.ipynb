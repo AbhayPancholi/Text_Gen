{
  "nbformat": 4,
  "nbformat_minor": 0,
  "metadata": {
    "colab": {
      "provenance": [],
      "gpuType": "T4"
    },
    "kernelspec": {
      "name": "python3",
      "display_name": "Python 3"
    },
    "language_info": {
      "name": "python"
    },
    "accelerator": "GPU"
  },
  "cells": [
    {
      "cell_type": "markdown",
      "source": [
        "# Importing libraries"
      ],
      "metadata": {
        "id": "E9BndQzC3GtL"
      }
    },
    {
      "cell_type": "code",
      "execution_count": 1,
      "metadata": {
        "id": "_fB26BYT7_ji"
      },
      "outputs": [],
      "source": [
        "from keras.models import Sequential\n",
        "from keras.layers import Dense, Dropout, LSTM\n",
        "from keras.optimizers import RMSprop\n",
        "import numpy as np\n",
        "import random\n",
        "import sys"
      ]
    },
    {
      "cell_type": "code",
      "source": [
        "from google.colab import drive\n",
        "drive.mount('/content/drive')"
      ],
      "metadata": {
        "colab": {
          "base_uri": "https://localhost:8080/"
        },
        "id": "fBFlm8eGUhBU",
        "outputId": "d55da7da-bd81-44eb-d1f4-9de42b194891"
      },
      "execution_count": 2,
      "outputs": [
        {
          "output_type": "stream",
          "name": "stdout",
          "text": [
            "Mounted at /content/drive\n"
          ]
        }
      ]
    },
    {
      "cell_type": "markdown",
      "source": [
        "# Loading Dataset"
      ],
      "metadata": {
        "id": "-L7CcIhR3LIn"
      }
    },
    {
      "cell_type": "code",
      "source": [
        "#LOAD TEXT\n",
        "#Save notepad as UTF-8 (select from dropdown during saving)\n",
        "filename = \"/content/drive/MyDrive/College Study/6th Sem/Deep Learning/Practical 9/jungle_book.txt\"\n",
        "raw_text = open(filename, 'r', encoding='utf-8').read()\n",
        "raw_text = raw_text.lower()\n",
        "print(raw_text[0:1000])"
      ],
      "metadata": {
        "id": "MKLyZWm49YAa",
        "colab": {
          "base_uri": "https://localhost:8080/"
        },
        "outputId": "db36a213-6588-488d-ea5f-105a42115d35"
      },
      "execution_count": 3,
      "outputs": [
        {
          "output_type": "stream",
          "name": "stdout",
          "text": [
            "﻿the project gutenberg ebook of the jungle book, by rudyard kipling\n",
            "\n",
            "this ebook is for the use of anyone anywhere in the united states and\n",
            "most other parts of the world at no cost and with almost no restrictions\n",
            "whatsoever. you may copy it, give it away or re-use it under the terms\n",
            "of the project gutenberg license included with this ebook or online at\n",
            "www.gutenberg.org. if you are not located in the united states, you\n",
            "will have to check the laws of the country where you are located before\n",
            "using this ebook.\n",
            "\n",
            "title: the jungle book\n",
            "\n",
            "author: rudyard kipling\n",
            "\n",
            "illustrator: m. & e. detmold\n",
            "\n",
            "release date: march, 1995 [ebook #236]\n",
            "[most recently updated: may 1, 2023]\n",
            "\n",
            "language: english\n",
            "\n",
            "\n",
            "*** start of the project gutenberg ebook the jungle book ***\n",
            "\n",
            "\n",
            "\n",
            "\n",
            "the jungle book\n",
            "\n",
            "by rudyard kipling\n",
            "\n",
            "\n",
            "\n",
            "contents\n",
            "\n",
            "     mowgli’s brothers\n",
            "     hunting-song of the seeonee pack\n",
            "     kaa’s hunting\n",
            "     road-song of the bandar-log\n",
            "     “tiger! tiger!”\n",
            "      mowgli’s song\n",
            "     the white seal\n",
            "     lukannon\n",
            "     “rik\n"
          ]
        }
      ]
    },
    {
      "cell_type": "markdown",
      "source": [
        "# Cleaning Text"
      ],
      "metadata": {
        "id": "wXY1Xv7Z3PU7"
      }
    },
    {
      "cell_type": "code",
      "source": [
        "#CLEAN TEXT\n",
        "#Remove numbers\n",
        "raw_text = ''.join(c for c in raw_text if not c.isdigit())\n",
        "\n",
        "#How many total characters do we have in our training text?\n",
        "chars = sorted(list(set(raw_text))) #List of every character\n",
        "\n"
      ],
      "metadata": {
        "id": "0-Ge6ot79eSB"
      },
      "execution_count": 4,
      "outputs": []
    },
    {
      "cell_type": "code",
      "source": [
        "print(len(chars))"
      ],
      "metadata": {
        "colab": {
          "base_uri": "https://localhost:8080/"
        },
        "id": "ipgZzbNp9sBk",
        "outputId": "4935a04a-b1ef-499e-a3d3-60be89820935"
      },
      "execution_count": 5,
      "outputs": [
        {
          "output_type": "stream",
          "name": "stdout",
          "text": [
            "56\n"
          ]
        }
      ]
    },
    {
      "cell_type": "code",
      "source": [
        "print(chars)"
      ],
      "metadata": {
        "colab": {
          "base_uri": "https://localhost:8080/"
        },
        "id": "kFTZp0ZXNyuS",
        "outputId": "06dcaba2-19b1-4864-8afb-96aa80712c0a"
      },
      "execution_count": 6,
      "outputs": [
        {
          "output_type": "stream",
          "name": "stdout",
          "text": [
            "['\\n', ' ', '!', '#', '$', '%', '&', \"'\", '(', ')', '*', ',', '-', '.', '/', ':', ';', '?', '[', ']', '_', '`', 'a', 'b', 'c', 'd', 'e', 'f', 'g', 'h', 'i', 'j', 'k', 'l', 'm', 'n', 'o', 'p', 'q', 'r', 's', 't', 'u', 'v', 'w', 'x', 'y', 'z', 'â', '—', '’', '“', '”', '•', '™', '\\ufeff']\n"
          ]
        }
      ]
    },
    {
      "cell_type": "markdown",
      "source": [
        "# Creating dictionary for unique sequences"
      ],
      "metadata": {
        "id": "v5d4o3ky3dM8"
      }
    },
    {
      "cell_type": "code",
      "source": [
        "#Character sequences must be encoded as integers.\n",
        "#Each unique character will be assigned an integer value.\n",
        "#Create a dictionary of characters mapped to integer values\n",
        "char_to_int = dict((c, i) for i, c in enumerate(chars))\n",
        "\n",
        "#Do the reverse so we can print our predictions in characters and not integers\n",
        "int_to_char = dict((i, c) for i, c in enumerate(chars))"
      ],
      "metadata": {
        "id": "WY4k_r2Y9p6G"
      },
      "execution_count": 7,
      "outputs": []
    },
    {
      "cell_type": "code",
      "source": [
        "print(char_to_int)"
      ],
      "metadata": {
        "colab": {
          "base_uri": "https://localhost:8080/"
        },
        "id": "PmH-KhwF-AlV",
        "outputId": "89f94b79-8c80-4160-c7f6-9043ca483ae9"
      },
      "execution_count": 8,
      "outputs": [
        {
          "output_type": "stream",
          "name": "stdout",
          "text": [
            "{'\\n': 0, ' ': 1, '!': 2, '#': 3, '$': 4, '%': 5, '&': 6, \"'\": 7, '(': 8, ')': 9, '*': 10, ',': 11, '-': 12, '.': 13, '/': 14, ':': 15, ';': 16, '?': 17, '[': 18, ']': 19, '_': 20, '`': 21, 'a': 22, 'b': 23, 'c': 24, 'd': 25, 'e': 26, 'f': 27, 'g': 28, 'h': 29, 'i': 30, 'j': 31, 'k': 32, 'l': 33, 'm': 34, 'n': 35, 'o': 36, 'p': 37, 'q': 38, 'r': 39, 's': 40, 't': 41, 'u': 42, 'v': 43, 'w': 44, 'x': 45, 'y': 46, 'z': 47, 'â': 48, '—': 49, '’': 50, '“': 51, '”': 52, '•': 53, '™': 54, '\\ufeff': 55}\n"
          ]
        }
      ]
    },
    {
      "cell_type": "code",
      "source": [
        "print(int_to_char)"
      ],
      "metadata": {
        "colab": {
          "base_uri": "https://localhost:8080/"
        },
        "id": "gbEkvHV2PD73",
        "outputId": "9552b60e-468a-4393-858c-192b3bce8252"
      },
      "execution_count": 9,
      "outputs": [
        {
          "output_type": "stream",
          "name": "stdout",
          "text": [
            "{0: '\\n', 1: ' ', 2: '!', 3: '#', 4: '$', 5: '%', 6: '&', 7: \"'\", 8: '(', 9: ')', 10: '*', 11: ',', 12: '-', 13: '.', 14: '/', 15: ':', 16: ';', 17: '?', 18: '[', 19: ']', 20: '_', 21: '`', 22: 'a', 23: 'b', 24: 'c', 25: 'd', 26: 'e', 27: 'f', 28: 'g', 29: 'h', 30: 'i', 31: 'j', 32: 'k', 33: 'l', 34: 'm', 35: 'n', 36: 'o', 37: 'p', 38: 'q', 39: 'r', 40: 's', 41: 't', 42: 'u', 43: 'v', 44: 'w', 45: 'x', 46: 'y', 47: 'z', 48: 'â', 49: '—', 50: '’', 51: '“', 52: '”', 53: '•', 54: '™', 55: '\\ufeff'}\n"
          ]
        }
      ]
    },
    {
      "cell_type": "markdown",
      "source": [
        "# Summarizing the data"
      ],
      "metadata": {
        "id": "eAN9x2ws3zPC"
      }
    },
    {
      "cell_type": "code",
      "source": [
        "n_chars = len(raw_text)\n",
        "n_vocab = len(chars)\n",
        "print(\"Total Characters in the text; corpus length: \", n_chars)\n",
        "print(\"Total Vocab: \", n_vocab)"
      ],
      "metadata": {
        "colab": {
          "base_uri": "https://localhost:8080/"
        },
        "id": "Dom96zep-E_U",
        "outputId": "94b93c56-21f5-4ea4-abc4-edbe67da4e5f"
      },
      "execution_count": 10,
      "outputs": [
        {
          "output_type": "stream",
          "name": "stdout",
          "text": [
            "Total Characters in the text; corpus length:  291930\n",
            "Total Vocab:  56\n"
          ]
        }
      ]
    },
    {
      "cell_type": "markdown",
      "source": [
        "# Creating Sequences"
      ],
      "metadata": {
        "id": "VXsNZIfh35OP"
      }
    },
    {
      "cell_type": "code",
      "source": [
        "########################\n",
        "#Now that we have characters we can create input/output sequences for training\n",
        "#Remember that for LSTM input and output can be sequences... hence the term seq2seq\n",
        "seq_length = 60  #Length of each input sequence\n",
        "step = 10   #Instead of moving 1 letter at a time, try skipping a few.\n",
        "sentences = []    # X values (Sentences)\n",
        "next_chars = []   # Y values. The character that follows the sentence defined as X\n",
        "for i in range(0, n_chars - seq_length, step):  #step=1 means each sentence is offset just by a single letter\n",
        "    sentences.append(raw_text[i: i + seq_length])  #Sequence in\n",
        "    next_chars.append(raw_text[i + seq_length])  #Sequence out\n",
        "n_patterns = len(sentences)\n",
        "print('Number of sequences:', n_patterns)\n"
      ],
      "metadata": {
        "colab": {
          "base_uri": "https://localhost:8080/"
        },
        "id": "zM1kvav1-Hy5",
        "outputId": "c1decd81-427b-42f9-a5eb-9f2bae920c43"
      },
      "execution_count": 11,
      "outputs": [
        {
          "output_type": "stream",
          "name": "stdout",
          "text": [
            "Number of sequences: 29187\n"
          ]
        }
      ]
    },
    {
      "cell_type": "code",
      "source": [
        "print(\"x is\",sentences[2])\n",
        "print(\"y is\",next_chars[2])"
      ],
      "metadata": {
        "colab": {
          "base_uri": "https://localhost:8080/"
        },
        "id": "vrZ7oiqj-m1x",
        "outputId": "3545fef5-f9de-43aa-f679-549fad1eb03f"
      },
      "execution_count": 12,
      "outputs": [
        {
          "output_type": "stream",
          "name": "stdout",
          "text": [
            "x is rg ebook of the jungle book, by rudyard kipling\n",
            "\n",
            "this ebook \n",
            "y is i\n"
          ]
        }
      ]
    },
    {
      "cell_type": "code",
      "source": [
        "#Just like time series, X is the sequence / sentence and y is the next value\n",
        "#that comes after the sentence...\n",
        "\n",
        "# reshape input to be [samples, time steps, features]\n",
        "\n",
        "#time steps = sequence length\n",
        "#features = numbers of characters in our vocab (n_vocab)\n",
        "#Vectorize all sentences: there are n_patterns sentences.\n",
        "#For each sentence we have n_vocab characters available for seq_length\n",
        "#Vectorization returns a vector for all sentences indicating the presence or absence\n",
        "#of a character.\n",
        "\n",
        "x = np.zeros((len(sentences), seq_length, n_vocab), dtype=bool)\n",
        "y = np.zeros((len(sentences), n_vocab), dtype=bool)\n",
        "for i, sentence in enumerate(sentences):\n",
        "    for t, char in enumerate(sentence):\n",
        "        x[i, t, char_to_int[char]] = 1\n",
        "    y[i, char_to_int[next_chars[i]]] = 1\n",
        "\n",
        "print(x.shape)\n",
        "print(y.shape)\n",
        "\n",
        "#print(x[0].shape)\n",
        "#print(y[0].shape)"
      ],
      "metadata": {
        "id": "u1AG-wlT_Ahg",
        "colab": {
          "base_uri": "https://localhost:8080/"
        },
        "outputId": "33c94284-3830-43e9-9efe-add9b4d2e286"
      },
      "execution_count": 13,
      "outputs": [
        {
          "output_type": "stream",
          "name": "stdout",
          "text": [
            "(29187, 60, 56)\n",
            "(29187, 56)\n"
          ]
        }
      ]
    },
    {
      "cell_type": "markdown",
      "source": [
        "# Model building"
      ],
      "metadata": {
        "id": "cr6IlABD4Jvl"
      }
    },
    {
      "cell_type": "code",
      "source": [
        "##################################################\n",
        "#Basic model with one LSTM\n",
        "# build the model: a single LSTM\n",
        "\n",
        "model = Sequential()\n",
        "model.add(LSTM(128, input_shape=(seq_length, n_vocab), return_sequences=True))\n",
        "model.add(LSTM(64, return_sequences=True))\n",
        "model.add(LSTM(32))\n",
        "model.add(Dense(n_vocab, activation='softmax'))\n",
        "\n",
        "optimizer = RMSprop(lr=0.01)\n",
        "model.compile(loss='categorical_crossentropy', optimizer=optimizer)\n",
        "model.summary()"
      ],
      "metadata": {
        "colab": {
          "base_uri": "https://localhost:8080/"
        },
        "id": "UlOSsQ8QA5S1",
        "outputId": "a6ea2bca-c6fc-43d8-d0f3-25f67c326e01"
      },
      "execution_count": 14,
      "outputs": [
        {
          "output_type": "stream",
          "name": "stderr",
          "text": [
            "WARNING:absl:`lr` is deprecated in Keras optimizer, please use `learning_rate` or use the legacy optimizer, e.g.,tf.keras.optimizers.legacy.RMSprop.\n"
          ]
        },
        {
          "output_type": "stream",
          "name": "stdout",
          "text": [
            "Model: \"sequential\"\n",
            "_________________________________________________________________\n",
            " Layer (type)                Output Shape              Param #   \n",
            "=================================================================\n",
            " lstm (LSTM)                 (None, 60, 128)           94720     \n",
            "                                                                 \n",
            " lstm_1 (LSTM)               (None, 60, 64)            49408     \n",
            "                                                                 \n",
            " lstm_2 (LSTM)               (None, 32)                12416     \n",
            "                                                                 \n",
            " dense (Dense)               (None, 56)                1848      \n",
            "                                                                 \n",
            "=================================================================\n",
            "Total params: 158392 (618.72 KB)\n",
            "Trainable params: 158392 (618.72 KB)\n",
            "Non-trainable params: 0 (0.00 Byte)\n",
            "_________________________________________________________________\n"
          ]
        }
      ]
    },
    {
      "cell_type": "markdown",
      "source": [
        "# Training and saving the model"
      ],
      "metadata": {
        "id": "RbZ3opFN4S6U"
      }
    },
    {
      "cell_type": "code",
      "source": [
        "# define the checkpoint\n",
        "from keras.callbacks import ModelCheckpoint\n",
        "\n",
        "# filepath=\"saved_weights/saved_weights-{epoch:02d}-{loss:.4f}.hdf5\"\n",
        "# checkpoint = ModelCheckpoint(filepath, monitor='loss', verbose=1, save_best_only=True, mode='min')\n",
        "\n",
        "# callbacks_list = [checkpoint]\n",
        "\n",
        "\n",
        "# Fit the model\n",
        "\n",
        "history = model.fit(x, y,\n",
        "          batch_size=128,\n",
        "          epochs=100,\n",
        "          # callbacks=callbacks_list)\n",
        ")\n",
        "\n",
        "# model.save('my_saved_weights_jungle_book_50epochs.h5')\n",
        "##########################################################################\n",
        "\n",
        "from matplotlib import pyplot as plt\n",
        "#plot the training and validation accuracy and loss at each epoch\n",
        "loss = history.history['loss']\n",
        "epochs = range(1, len(loss) + 1)\n",
        "plt.plot(epochs, loss, 'y', label='Training loss')\n",
        "plt.title('Training loss')\n",
        "plt.xlabel('Epochs')\n",
        "plt.ylabel('Loss')\n",
        "plt.legend()\n",
        "plt.show()\n"
      ],
      "metadata": {
        "colab": {
          "base_uri": "https://localhost:8080/",
          "height": 1000
        },
        "id": "bRdulBvtBG6N",
        "outputId": "39dc41dc-6c73-40c6-aeca-51c6c6840e12"
      },
      "execution_count": 16,
      "outputs": [
        {
          "output_type": "stream",
          "name": "stdout",
          "text": [
            "Epoch 1/100\n",
            "229/229 [==============================] - 3s 12ms/step - loss: 2.7405\n",
            "Epoch 2/100\n",
            "229/229 [==============================] - 3s 11ms/step - loss: 2.6853\n",
            "Epoch 3/100\n",
            "229/229 [==============================] - 3s 13ms/step - loss: 2.6028\n",
            "Epoch 4/100\n",
            "229/229 [==============================] - 3s 14ms/step - loss: 2.5128\n",
            "Epoch 5/100\n",
            "229/229 [==============================] - 3s 12ms/step - loss: 2.4579\n",
            "Epoch 6/100\n",
            "229/229 [==============================] - 3s 11ms/step - loss: 2.4127\n",
            "Epoch 7/100\n",
            "229/229 [==============================] - 2s 11ms/step - loss: 2.3734\n",
            "Epoch 8/100\n",
            "229/229 [==============================] - 2s 11ms/step - loss: 2.3341\n",
            "Epoch 9/100\n",
            "229/229 [==============================] - 3s 14ms/step - loss: 2.3015\n",
            "Epoch 10/100\n",
            "229/229 [==============================] - 3s 15ms/step - loss: 2.2747\n",
            "Epoch 11/100\n",
            "229/229 [==============================] - 3s 11ms/step - loss: 2.2489\n",
            "Epoch 12/100\n",
            "229/229 [==============================] - 2s 11ms/step - loss: 2.2276\n",
            "Epoch 13/100\n",
            "229/229 [==============================] - 2s 11ms/step - loss: 2.2048\n",
            "Epoch 14/100\n",
            "229/229 [==============================] - 2s 11ms/step - loss: 2.1832\n",
            "Epoch 15/100\n",
            "229/229 [==============================] - 3s 14ms/step - loss: 2.1620\n",
            "Epoch 16/100\n",
            "229/229 [==============================] - 3s 14ms/step - loss: 2.1427\n",
            "Epoch 17/100\n",
            "229/229 [==============================] - 2s 11ms/step - loss: 2.1221\n",
            "Epoch 18/100\n",
            "229/229 [==============================] - 3s 11ms/step - loss: 2.1027\n",
            "Epoch 19/100\n",
            "229/229 [==============================] - 3s 11ms/step - loss: 2.0843\n",
            "Epoch 20/100\n",
            "229/229 [==============================] - 3s 11ms/step - loss: 2.0634\n",
            "Epoch 21/100\n",
            "229/229 [==============================] - 3s 15ms/step - loss: 2.0447\n",
            "Epoch 22/100\n",
            "229/229 [==============================] - 3s 14ms/step - loss: 2.0268\n",
            "Epoch 23/100\n",
            "229/229 [==============================] - 3s 11ms/step - loss: 2.0067\n",
            "Epoch 24/100\n",
            "229/229 [==============================] - 3s 11ms/step - loss: 1.9880\n",
            "Epoch 25/100\n",
            "229/229 [==============================] - 3s 11ms/step - loss: 1.9688\n",
            "Epoch 26/100\n",
            "229/229 [==============================] - 3s 12ms/step - loss: 1.9492\n",
            "Epoch 27/100\n",
            "229/229 [==============================] - 3s 15ms/step - loss: 1.9300\n",
            "Epoch 28/100\n",
            "229/229 [==============================] - 3s 13ms/step - loss: 1.9099\n",
            "Epoch 29/100\n",
            "229/229 [==============================] - 3s 11ms/step - loss: 1.8904\n",
            "Epoch 30/100\n",
            "229/229 [==============================] - 2s 11ms/step - loss: 1.8712\n",
            "Epoch 31/100\n",
            "229/229 [==============================] - 3s 11ms/step - loss: 1.8508\n",
            "Epoch 32/100\n",
            "229/229 [==============================] - 3s 13ms/step - loss: 1.8301\n",
            "Epoch 33/100\n",
            "229/229 [==============================] - 3s 15ms/step - loss: 1.8077\n",
            "Epoch 34/100\n",
            "229/229 [==============================] - 3s 13ms/step - loss: 1.7879\n",
            "Epoch 35/100\n",
            "229/229 [==============================] - 3s 11ms/step - loss: 1.7648\n",
            "Epoch 36/100\n",
            "229/229 [==============================] - 3s 11ms/step - loss: 1.7432\n",
            "Epoch 37/100\n",
            "229/229 [==============================] - 3s 13ms/step - loss: 1.7220\n",
            "Epoch 38/100\n",
            "229/229 [==============================] - 3s 15ms/step - loss: 1.6990\n",
            "Epoch 39/100\n",
            "229/229 [==============================] - 3s 14ms/step - loss: 1.6756\n",
            "Epoch 40/100\n",
            "229/229 [==============================] - 3s 12ms/step - loss: 1.6516\n",
            "Epoch 41/100\n",
            "229/229 [==============================] - 2s 11ms/step - loss: 1.6256\n",
            "Epoch 42/100\n",
            "229/229 [==============================] - 3s 11ms/step - loss: 1.6037\n",
            "Epoch 43/100\n",
            "229/229 [==============================] - 3s 12ms/step - loss: 1.5784\n",
            "Epoch 44/100\n",
            "229/229 [==============================] - 3s 15ms/step - loss: 1.5541\n",
            "Epoch 45/100\n",
            "229/229 [==============================] - 3s 13ms/step - loss: 1.5283\n",
            "Epoch 46/100\n",
            "229/229 [==============================] - 2s 11ms/step - loss: 1.5053\n",
            "Epoch 47/100\n",
            "229/229 [==============================] - 2s 11ms/step - loss: 1.4805\n",
            "Epoch 48/100\n",
            "229/229 [==============================] - 2s 11ms/step - loss: 1.4525\n",
            "Epoch 49/100\n",
            "229/229 [==============================] - 3s 13ms/step - loss: 1.4285\n",
            "Epoch 50/100\n",
            "229/229 [==============================] - 3s 15ms/step - loss: 1.4016\n",
            "Epoch 51/100\n",
            "229/229 [==============================] - 3s 12ms/step - loss: 1.3783\n",
            "Epoch 52/100\n",
            "229/229 [==============================] - 3s 12ms/step - loss: 1.3524\n",
            "Epoch 53/100\n",
            "229/229 [==============================] - 2s 11ms/step - loss: 1.3278\n",
            "Epoch 54/100\n",
            "229/229 [==============================] - 2s 11ms/step - loss: 1.3049\n",
            "Epoch 55/100\n",
            "229/229 [==============================] - 3s 14ms/step - loss: 1.2786\n",
            "Epoch 56/100\n",
            "229/229 [==============================] - 3s 15ms/step - loss: 1.2561\n",
            "Epoch 57/100\n",
            "229/229 [==============================] - 3s 11ms/step - loss: 1.2298\n",
            "Epoch 58/100\n",
            "229/229 [==============================] - 2s 11ms/step - loss: 1.2080\n",
            "Epoch 59/100\n",
            "229/229 [==============================] - 2s 11ms/step - loss: 1.1846\n",
            "Epoch 60/100\n",
            "229/229 [==============================] - 2s 11ms/step - loss: 1.1587\n",
            "Epoch 61/100\n",
            "229/229 [==============================] - 3s 15ms/step - loss: 1.1367\n",
            "Epoch 62/100\n",
            "229/229 [==============================] - 3s 15ms/step - loss: 1.1133\n",
            "Epoch 63/100\n",
            "229/229 [==============================] - 2s 11ms/step - loss: 1.0947\n",
            "Epoch 64/100\n",
            "229/229 [==============================] - 2s 11ms/step - loss: 1.0684\n",
            "Epoch 65/100\n",
            "229/229 [==============================] - 2s 11ms/step - loss: 1.0441\n",
            "Epoch 66/100\n",
            "229/229 [==============================] - 3s 11ms/step - loss: 1.0251\n",
            "Epoch 67/100\n",
            "229/229 [==============================] - 3s 15ms/step - loss: 1.0053\n",
            "Epoch 68/100\n",
            "229/229 [==============================] - 3s 14ms/step - loss: 0.9833\n",
            "Epoch 69/100\n",
            "229/229 [==============================] - 2s 11ms/step - loss: 0.9613\n",
            "Epoch 70/100\n",
            "229/229 [==============================] - 2s 11ms/step - loss: 0.9443\n",
            "Epoch 71/100\n",
            "229/229 [==============================] - 2s 11ms/step - loss: 0.9212\n",
            "Epoch 72/100\n",
            "229/229 [==============================] - 3s 12ms/step - loss: 0.9020\n",
            "Epoch 73/100\n",
            "229/229 [==============================] - 3s 15ms/step - loss: 0.8871\n",
            "Epoch 74/100\n",
            "229/229 [==============================] - 3s 13ms/step - loss: 0.8669\n",
            "Epoch 75/100\n",
            "229/229 [==============================] - 2s 11ms/step - loss: 0.8458\n",
            "Epoch 76/100\n",
            "229/229 [==============================] - 2s 11ms/step - loss: 0.8283\n",
            "Epoch 77/100\n",
            "229/229 [==============================] - 3s 11ms/step - loss: 0.8144\n",
            "Epoch 78/100\n",
            "229/229 [==============================] - 3s 12ms/step - loss: 0.7969\n",
            "Epoch 79/100\n",
            "229/229 [==============================] - 3s 15ms/step - loss: 0.7766\n",
            "Epoch 80/100\n",
            "229/229 [==============================] - 3s 13ms/step - loss: 0.7611\n",
            "Epoch 81/100\n",
            "229/229 [==============================] - 2s 11ms/step - loss: 0.7475\n",
            "Epoch 82/100\n",
            "229/229 [==============================] - 2s 11ms/step - loss: 0.7283\n",
            "Epoch 83/100\n",
            "229/229 [==============================] - 2s 11ms/step - loss: 0.7158\n",
            "Epoch 84/100\n",
            "229/229 [==============================] - 3s 13ms/step - loss: 0.7038\n",
            "Epoch 85/100\n",
            "229/229 [==============================] - 3s 14ms/step - loss: 0.6842\n",
            "Epoch 86/100\n",
            "229/229 [==============================] - 3s 12ms/step - loss: 0.6708\n",
            "Epoch 87/100\n",
            "229/229 [==============================] - 2s 11ms/step - loss: 0.6580\n",
            "Epoch 88/100\n",
            "229/229 [==============================] - 3s 11ms/step - loss: 0.6459\n",
            "Epoch 89/100\n",
            "229/229 [==============================] - 2s 11ms/step - loss: 0.6353\n",
            "Epoch 90/100\n",
            "229/229 [==============================] - 3s 13ms/step - loss: 0.6211\n",
            "Epoch 91/100\n",
            "229/229 [==============================] - 3s 14ms/step - loss: 0.6069\n",
            "Epoch 92/100\n",
            "229/229 [==============================] - 3s 12ms/step - loss: 0.5995\n",
            "Epoch 93/100\n",
            "229/229 [==============================] - 2s 11ms/step - loss: 0.5798\n",
            "Epoch 94/100\n",
            "229/229 [==============================] - 3s 11ms/step - loss: 0.5746\n",
            "Epoch 95/100\n",
            "229/229 [==============================] - 3s 11ms/step - loss: 0.5605\n",
            "Epoch 96/100\n",
            "229/229 [==============================] - 3s 14ms/step - loss: 0.5523\n",
            "Epoch 97/100\n",
            "229/229 [==============================] - 3s 15ms/step - loss: 0.5396\n",
            "Epoch 98/100\n",
            "229/229 [==============================] - 2s 11ms/step - loss: 0.5268\n",
            "Epoch 99/100\n",
            "229/229 [==============================] - 3s 11ms/step - loss: 0.5180\n",
            "Epoch 100/100\n",
            "229/229 [==============================] - 2s 11ms/step - loss: 0.5081\n"
          ]
        },
        {
          "output_type": "display_data",
          "data": {
            "text/plain": [
              "<Figure size 640x480 with 1 Axes>"
            ],
            "image/png": "[encoded data removed]"
          },
          "metadata": {}
        }
      ]
    },
    {
      "cell_type": "markdown",
      "source": [
        "# Generating Characters"
      ],
      "metadata": {
        "id": "XNIQUKgH4b3Z"
      }
    },
    {
      "cell_type": "code",
      "source": [
        "#Generate characters\n",
        "#We must provide a sequence of seq_lenth as input to start the generation process\n",
        "\n",
        "#The prediction results is probabilities for each of the 48 characters at a specific\n",
        "#point in sequence. Let us pick the one with max probability and print it out.\n",
        "#Writing our own softmax function....\n",
        "\n",
        "def sample(preds):\n",
        "    preds = np.asarray(preds).astype('float64')\n",
        "    preds = np.log(preds)\n",
        "    exp_preds = np.exp(preds) #exp of log (x), isn't this same as x??\n",
        "    preds = exp_preds / np.sum(exp_preds)\n",
        "    probas = np.random.multinomial(1, preds, 1)\n",
        "    return np.argmax(probas)\n"
      ],
      "metadata": {
        "id": "5nsIuGE1BTeb"
      },
      "execution_count": 17,
      "outputs": []
    },
    {
      "cell_type": "code",
      "source": [
        "#Prediction\n",
        "# load the network weights\n",
        "filename = \"my_saved_weights_jungle_book_50epochs.h5\"\n",
        "# model.load_weights(filename)\n",
        "\n",
        "#Pick a random sentence from the text as seed.\n",
        "start_index = random.randint(0, n_chars - seq_length - 1)\n",
        "\n",
        "#Initiate generated text and keep adding new predictions and print them out\n",
        "generated = ''\n",
        "sentence = raw_text[start_index: start_index + seq_length]\n",
        "generated += sentence\n",
        "\n",
        "print('----- Seed for our text prediction: \"' + sentence + '\"')\n",
        "#sys.stdout.write(generated)\n",
        "\n",
        "\n",
        "for i in range(400):   # Number of characters including spaces\n",
        "    x_pred = np.zeros((1, seq_length, n_vocab))\n",
        "    for t, char in enumerate(sentence):\n",
        "        x_pred[0, t, char_to_int[char]] = 1.\n",
        "\n",
        "    preds = model.predict(x_pred, verbose=0)[0]\n",
        "    next_index = sample(preds)\n",
        "    next_char = int_to_char[next_index]\n",
        "\n",
        "    generated += next_char\n",
        "    sentence = sentence[1:] + next_char\n",
        "\n",
        "    sys.stdout.write(next_char)\n",
        "    sys.stdout.flush()\n",
        "print()\n"
      ],
      "metadata": {
        "id": "ZbaofgwdB1nz",
        "colab": {
          "base_uri": "https://localhost:8080/"
        },
        "outputId": "6cae0c7f-d551-4b5a-80a9-dd573d4043f6"
      },
      "execution_count": 18,
      "outputs": [
        {
          "output_type": "stream",
          "name": "stdout",
          "text": [
            "----- Seed for our text prediction: \"nd waving their flippers like the frog footman. when they be\"\n",
            " lencelent deopnd whitirl bey loutd like.\n",
            "stit’ dicks and eofna have sal nottgle as the picks fol rikk.\n",
            "stike, but welu blowner. man! as\n",
            "it men the was they coufging him anys to mast and swowk in to shat a dcopting he was leaged to sat in the wall, of the battee beand cable\n",
            "sall sed harla! “nere flerw. with toung ans revey mone to himey baloust. ne\n",
            "kand bumfily and shoffiwsss. “ilegtore king abut \n"
          ]
        }
      ]
    },
    {
      "cell_type": "code",
      "source": [],
      "metadata": {
        "id": "DFwmi__je2vE"
      },
      "execution_count": null,
      "outputs": []
    }
  ]
}